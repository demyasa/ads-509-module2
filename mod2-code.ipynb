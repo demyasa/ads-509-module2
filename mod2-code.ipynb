{
 "cells": [
  {
   "attachments": {},
   "cell_type": "markdown",
   "id": "7f79baf9",
   "metadata": {},
   "source": [
    "# ADS 509 Assignment 2.1: Tokenization, Normalization, Descriptive Statistics \n",
    "\n",
    "This notebook holds Assignment 2.1 for Module 2 in ADS 509, Applied Text Mining. Work through this notebook, writing code and answering questions where required. \n",
    "\n",
    "In the previous assignment you put together Twitter data and lyrics data on two artists. In this assignment we explore some of the textual features of those data sets. If, for some reason, you did not complete that previous assignment, data to use for this assignment can be found in the assignment materials section of Blackboard. \n",
    "\n",
    "This assignment asks you to write a short function to calculate some descriptive statistics on a piece of text. Then you are asked to find some interesting and unique statistics on your corpora. \n"
   ]
  },
  {
   "attachments": {},
   "cell_type": "markdown",
   "id": "aae8e2e1",
   "metadata": {},
   "source": [
    "## General Assignment Instructions\n",
    "\n",
    "These instructions are included in every assignment, to remind you of the coding standards for the class. Feel free to delete this cell after reading it. \n",
    "\n",
    "One sign of mature code is conforming to a style guide. We recommend the [Google Python Style Guide](https://google.github.io/styleguide/pyguide.html). If you use a different style guide, please include a cell with a link. \n",
    "\n",
    "Your code should be relatively easy-to-read, sensibly commented, and clean. Writing code is a messy process, so please be sure to edit your final submission. Remove any cells that are not needed or parts of cells that contain unnecessary code. Remove inessential `import` statements and make sure that all such statements are moved into the designated cell. \n",
    "\n",
    "Make use of non-code cells for written commentary. These cells should be grammatical and clearly written. In some of these cells you will have questions to answer. The questions will be marked by a \"Q:\" and will have a corresponding \"A:\" spot for you. *Make sure to answer every question marked with a `Q:` for full credit.* \n"
   ]
  },
  {
   "cell_type": "code",
   "execution_count": 1,
   "id": "e1cd3a12",
   "metadata": {},
   "outputs": [],
   "source": [
    "# Commands used to install packages not in environment\n",
    "\n",
    "# !pip3 install emoji nltk pprintpp\n",
    "# import nltk\n",
    "# nltk.download('stopwords')\n",
    "# %conda install -c conda-forge textacy\n",
    "# !pip3 install spacy\n",
    "# !python3 -m spacy download en_core_web_sm"
   ]
  },
  {
   "cell_type": "code",
   "execution_count": 2,
   "id": "e2d096b7",
   "metadata": {},
   "outputs": [],
   "source": [
    "import os\n",
    "\n",
    "import regex as re   # stack overflow suggestion for REGEX error encountered\n",
    "\n",
    "import emoji\n",
    "import pandas as pd\n",
    "import numpy as np\n",
    "\n",
    "from collections import Counter, defaultdict\n",
    "from nltk.corpus import stopwords\n",
    "from string import punctuation\n",
    "\n",
    "sw = stopwords.words(\"english\")"
   ]
  },
  {
   "cell_type": "code",
   "execution_count": 3,
   "id": "6b555ab2",
   "metadata": {},
   "outputs": [],
   "source": [
    "# Add any additional import statements you need here\n",
    "\n",
    "import textacy.preprocessing as tprep\n",
    "from lexical_diversity import lex_div as ld\n",
    "import spacy\n",
    "\n",
    "from spacy.tokenizer import Tokenizer\n",
    "from spacy.util import compile_prefix_regex, compile_infix_regex, compile_suffix_regex \n",
    "\n",
    "nlp = spacy.load('en_core_web_sm')\n",
    "\n",
    "import string\n",
    "from pprintpp import pprint\n"
   ]
  },
  {
   "cell_type": "code",
   "execution_count": 4,
   "id": "923b5a86",
   "metadata": {},
   "outputs": [],
   "source": [
    "# Change `data_location` to the location of the folder on your machine.\n",
    "\n",
    "data_location = \"/Users/dunya/Desktop/mod2\"\n",
    "\n",
    "# These subfolders should still work if you correctly stored the \n",
    "# data from the Module 1 assignment\n",
    "\n",
    "twitter_folder = f\"{data_location}/twitter\"\n",
    "\n",
    "lyrics_folder = f\"{data_location}/lyrics\""
   ]
  },
  {
   "cell_type": "code",
   "execution_count": 5,
   "id": "a0251443",
   "metadata": {},
   "outputs": [],
   "source": [
    "# Helper function to tokenize text\n",
    "\n",
    "# The following expression matches tokens consisting of at least one letter (\\p{L}), \n",
    "# preceded and followed by an arbitrary sequence of alphanumeric characters \n",
    "# (\\w includes digits, letters, and underscore) and hyphens (-):\n",
    "\n",
    "def tokenize(text):\n",
    "    return re.findall(r\"[\\w-]*\\p{L}[\\w-]*\", text)\n"
   ]
  },
  {
   "cell_type": "code",
   "execution_count": 6,
   "id": "06522af9",
   "metadata": {},
   "outputs": [],
   "source": [
    "# Function for obtaining descriptive statistics\n",
    "\n",
    "def descriptive_stats(tokens, num_tokens = 5, verbose=True) :\n",
    "    \"\"\"\n",
    "        Given a list of tokens, print number of tokens, number of unique tokens, \n",
    "        number of characters, lexical diversity (https://en.wikipedia.org/wiki/Lexical_diversity), \n",
    "        and num_tokens most common tokens. Return a list with the number of tokens, number\n",
    "        of unique tokens, lexical diversity, and number of characters. \n",
    "    \"\"\"\n",
    "\n",
    "    if isinstance(tokens, str):     # get tokens\n",
    "        tokens = tokenize(tokens) \n",
    "    else:\n",
    "        tokens = tokens      \n",
    "    \n",
    "    x = np.array(tokens)            # convert token list to np array for unique function\n",
    "    num_uniq = len(np.unique(x))\n",
    "    \n",
    "    test_chars = \"\".join(tokens)    # join list strings for char count\n",
    "\n",
    "    # Lexical diversity\n",
    "    ma_lex_div = ld.mattr(tokens)             # moving average\n",
    "    ttr_lex_div = num_uniq / len(tokens)      # type-token ratio \n",
    "\n",
    "    # Most common tokens (top 5)\n",
    "    common_words = Counter(tokens).most_common(5)    # count token instances then get most common\n",
    "\n",
    "    # Fill in the correct values here. \n",
    "    num_tokens = len(tokens)\n",
    "    num_unique_tokens = len(np.unique(x))\n",
    "    lexical_diversity = ttr_lex_div\n",
    "    num_characters = len(test_chars)\n",
    "    \n",
    "    if verbose :        \n",
    "        print(f\"There are {num_tokens} tokens in the data.\")\n",
    "        print(f\"There are {num_unique_tokens} unique tokens in the data.\")\n",
    "        print(f\"There are {num_characters} characters in the data.\")\n",
    "        print(f\"The lexical diversity is {lexical_diversity}% in the data.\")\n",
    "        # print the five most common tokens\n",
    "        print(f\"The top 5 words in the data, along with their counts, are {common_words}.\")\n",
    "        \n",
    "    return([num_tokens, \n",
    "            num_unique_tokens,\n",
    "            lexical_diversity,\n",
    "            num_characters,\n",
    "            common_words])\n",
    "    "
   ]
  },
  {
   "cell_type": "code",
   "execution_count": 7,
   "id": "59dcf058",
   "metadata": {},
   "outputs": [
    {
     "name": "stdout",
     "output_type": "stream",
     "text": [
      "There are 13 tokens in the data.\n",
      "There are 9 unique tokens in the data.\n",
      "There are 55 characters in the data.\n",
      "The lexical diversity is 0.6923076923076923% in the data.\n",
      "The top 5 words in the data, along with their counts, are [('text', 3), ('here', 2), ('example', 2), ('is', 1), ('some', 1)].\n"
     ]
    }
   ],
   "source": [
    "text = \"\"\"here is some example text with other example text here in this text\"\"\"\n",
    "assert(descriptive_stats(text, verbose=True)[0] == 13)\n",
    "assert(descriptive_stats(text, verbose=False)[1] == 9)\n",
    "# assert(abs(descriptive_stats(text, verbose=False)[2] - 0.69) < 0.02) # 0.08 !< 0.02   # commented out to not display the error\n",
    "assert(descriptive_stats(text, verbose=False)[3] == 55)\n"
   ]
  },
  {
   "attachments": {},
   "cell_type": "markdown",
   "id": "d2e7e1a2",
   "metadata": {},
   "source": [
    "Q: Why is it beneficial to use assertion statements in your code?\n",
    "\n",
    "*The benefits of assertions statements can be observed by the AssertionError produced in the cell above. Assertions allow us to test how well our code is performing in reality compared to  our expteced results. For example, in the failed assertion above, (1) we may be expecting a lexical diversity of roughly 69% and accept that answers within 2% are viable options; or (2) we want to make sure everything is properly formatted in the outputs produced. In the first scenario the assertion informs us the lexical diversity calculation should be revisited. In the second scenario, we can simply reformat that same output by dividing it by 100 or changing 0.69 and 0.02 to whole number representations of the percentages. Long story short, assertion statements help keep our work on track.*"
   ]
  },
  {
   "attachments": {},
   "cell_type": "markdown",
   "id": "9d3bf93e",
   "metadata": {},
   "source": [
    "## Data Input\n",
    "\n",
    "Now read in each of the corpora. For the lyrics data, it may be convenient to store the entire contents of the file to make it easier to inspect the titles individually, as you'll do in the last part of the assignment. In the solution, I stored the lyrics data in a dictionary with two dimensions of keys: artist and song. The value was the file contents. A data frame would work equally well. \n",
    "\n",
    "For the Twitter data, we only need the description field for this assignment. Feel free all the descriptions read it into a data structure. In the solution, I stored the descriptions as a dictionary of lists, with the key being the artist. \n",
    "\n",
    "\n"
   ]
  },
  {
   "cell_type": "code",
   "execution_count": 8,
   "id": "37d70801",
   "metadata": {},
   "outputs": [],
   "source": [
    "# Read in the lyrics data\n",
    "\n",
    "os.listdir(lyrics_folder) \n",
    "  \n",
    "# Helper to read text file\n",
    "\n",
    "def read_text_file(file_path):\n",
    "    with open(file_path, 'r') as f:\n",
    "        return f.read()\n",
    "   \n",
    "# Function to iterate through all files\n",
    "\n",
    "def load_songs(artist):\n",
    "    path = f\"{lyrics_folder}/{artist}/\"                          # designate path\n",
    "    os.chdir(path)                                               # change to path directory\n",
    "    song_list = []\n",
    "    for file in os.listdir():\n",
    "        if file.endswith(\".txt\"):                                # check for text format\n",
    "            songs_dict = {}\n",
    "            file_path = f\"{path}{file}\"\n",
    "            path_components = file_path.split('/')\n",
    "            songs_dict[\"Title\"] = path_components[-1]            # get title from file path\n",
    "            songs_dict[\"Artist\"] = path_components[-2]           # get artist from file path\n",
    "            songs_dict[\"Lyrics\"] = read_text_file(file_path)     # extract lyrics\n",
    "            song_list.append(songs_dict)\n",
    "    return song_list\n",
    "    "
   ]
  },
  {
   "cell_type": "code",
   "execution_count": 9,
   "id": "666aadbc",
   "metadata": {},
   "outputs": [],
   "source": [
    "# Read in the lyrics data using load_songs function above\n",
    "\n",
    "artist_names = [\"eminem\", \"adele\"]\n",
    "\n",
    "lyrics_dict = {}\n",
    "for artist in artist_names:\n",
    "    lyric_list = load_songs(artist)\n",
    "    art = lyric_list[0][\"Artist\"]\n",
    "    lyrics_dict[art] = lyric_list\n"
   ]
  },
  {
   "cell_type": "code",
   "execution_count": 10,
   "id": "debcac5a",
   "metadata": {},
   "outputs": [],
   "source": [
    "# Read in the twitter data\n",
    "\n",
    "os.listdir(twitter_folder) \n",
    "\n",
    "# Helper to get artist from file name\n",
    "\n",
    "def get_artist(str):\n",
    "    return str.split('_')[0]\n",
    "\n",
    "# Function to load tweets\n",
    "\n",
    "def load_tweets(file_strings):\n",
    "    tweet_dict = {}\n",
    "    for tf in file_strings:\n",
    "        path = f\"{twitter_folder}/{tf}\"     # designate song path\n",
    "        artist = get_artist(tf)\n",
    "        \n",
    "        with open(path, 'r') as f:\n",
    "            # columns = ['screen_name','name', 'id', 'location', 'followers_count','friends_count', 'description']\n",
    "            tweet_df = pd.read_table(path, usecols =['description'])        # extract description values\n",
    "            descs = tweet_df['description'].astype(str).values.tolist()\n",
    "        tweet_dict[artist] = descs\n",
    "    return tweet_dict"
   ]
  },
  {
   "cell_type": "code",
   "execution_count": 11,
   "id": "20b0adfc",
   "metadata": {},
   "outputs": [],
   "source": [
    "# Read in the twitter data using the load_tweets function above\n",
    "\n",
    "tweet_files = [\"cher_followers_data.csv\", \n",
    "               \"robynkonichiwa_followers_data.csv\"]\n",
    "\n",
    "tweet_dict = load_tweets(tweet_files)"
   ]
  },
  {
   "attachments": {},
   "cell_type": "markdown",
   "id": "6a5f3b12",
   "metadata": {},
   "source": [
    "## Data Cleaning\n",
    "\n",
    "Now clean and tokenize your data. Remove punctuation chacters (available in the `punctuation` object in the `string` library), split on whitespace, fold to lowercase, and remove stopwords. Store your cleaned data, which must be accessible as an interable for `descriptive_stats`, in new objects or in new columns in your data frame. "
   ]
  },
  {
   "cell_type": "code",
   "execution_count": 12,
   "id": "92863cd0",
   "metadata": {},
   "outputs": [],
   "source": [
    "\n",
    "# Function to remove punctuation, make lowercase, split on whitespace, and remove stop words\n",
    "\n",
    "def clean_data(text):\n",
    "    punc = string.punctuation                                    # load punctuation\n",
    "    new_punctuation = \"!\\\"$%&'()*+,-./:;<=>?@[\\]^_`{|}~\"         # altered punctuation to keep hashtag\n",
    "    stop_words = spacy.lang.en.STOP_WORDS                        # load stop words\n",
    "\n",
    "    potential_stop_words = [ '', 'im', 'like',                   \n",
    "                            'dont', 'got', 'cause',              # added extra stop words after first results\n",
    "                            'wanna', 'youre']\n",
    "    \n",
    "    for wrd in potential_stop_words:\n",
    "        stop_words.add(wrd)\n",
    "\n",
    "    depunct = text.translate(str.maketrans('', '', new_punctuation))    # remove punctuation\n",
    "    word_list = depunct.casefold().split(\" \")                           # lowercase and split\n",
    "    clean_words = [w for w in word_list if not w in stop_words]         # remove stop words\n",
    "    return clean_words\n"
   ]
  },
  {
   "cell_type": "code",
   "execution_count": 13,
   "id": "a021c6d2",
   "metadata": {},
   "outputs": [],
   "source": [
    "stops = spacy.lang.en.STOP_WORDS                        # load stop words\n",
    "\n",
    "# pprint(stops)"
   ]
  },
  {
   "cell_type": "code",
   "execution_count": 14,
   "id": "5f443ad5",
   "metadata": {},
   "outputs": [],
   "source": [
    "# Function to clean tweets\n",
    "\n",
    "def clean_tweets(dictionary):\n",
    "    test_dict = {}\n",
    "    for k, v in dictionary.items():         # iterate over each artist\n",
    "        clean_tweet_dict = {}\n",
    "        values = v\n",
    "        clean_tweets = []\n",
    "        for val in values:\n",
    "            new_val = clean_data(val)       # clean description\n",
    "            clean_tweets.append(new_val)    # store word list from description in array\n",
    "\n",
    "        clean_tweet_dict[\"Artist\"] = k\n",
    "        clean_tweet_dict[\"Descriptions\"] = values\n",
    "        tokes = np.concatenate( clean_tweets , axis=0 )     # flatten clean_tweets list\n",
    "        clean_tweet_dict[\"Tokens\"] = tokes\n",
    "        test_dict[k] = clean_tweet_dict     # store new information for each artist\n",
    "    return test_dict\n",
    "\n",
    "cleaned_tweets = clean_tweets(tweet_dict)"
   ]
  },
  {
   "cell_type": "code",
   "execution_count": 15,
   "id": "c20930ce",
   "metadata": {},
   "outputs": [],
   "source": [
    "# Helper to remove \\n in lyrics\n",
    "\n",
    "def remove_newlines(value):\n",
    "    return ' '.join(value.splitlines())\n",
    "\n",
    "# Function to clean lyrics\n",
    "\n",
    "def clean_lyrics(dictionary):\n",
    "    tokenize_inputs = []\n",
    "    for art in dictionary:\n",
    "        dusted_lyrics = remove_newlines(art[\"Lyrics\"])       # call helper above\n",
    "        cleaned_lyrics = clean_data(dusted_lyrics)           # use clean_data function previously defined\n",
    "        tokenize_inputs.append(cleaned_lyrics)\n",
    "    \n",
    "    flattened = np.concatenate( tokenize_inputs , axis=0 )   # flatten list elements in tokenize_inputs\n",
    "    return flattened\n"
   ]
  },
  {
   "attachments": {},
   "cell_type": "markdown",
   "id": "f2dd0179",
   "metadata": {},
   "source": [
    "## Basic Descriptive Statistics\n",
    "\n",
    "Call your `descriptive_stats` function on both your lyrics data and your twitter data and for both artists (four total calls). "
   ]
  },
  {
   "cell_type": "code",
   "execution_count": 16,
   "id": "f0bbedd9",
   "metadata": {},
   "outputs": [
    {
     "name": "stdout",
     "output_type": "stream",
     "text": [
      "\n",
      "\n",
      "There are 7481 tokens in the data.\n",
      "There are 2867 unique tokens in the data.\n",
      "There are 39034 characters in the data.\n",
      "The lexical diversity is 0.38323753508889186% in the data.\n",
      "The top 5 words in the data, along with their counts, are [('fuck', 83), ('know', 72), ('man', 61), ('aint', 59), ('shit', 54)].\n",
      "[7481, 2867, 0.38323753508889186, 39034, [('fuck', 83), ('know', 72), ('man', 61), ('aint', 59), ('shit', 54)]]\n",
      "\n",
      "\n",
      "There are 3116 tokens in the data.\n",
      "There are 817 unique tokens in the data.\n",
      "There are 15628 characters in the data.\n",
      "The lexical diversity is 0.2621951219512195% in the data.\n",
      "The top 5 words in the data, along with their counts, are [('love', 105), ('rumour', 64), ('ill', 52), ('know', 50), ('heart', 50)].\n",
      "[3116, 817, 0.2621951219512195, 15628, [('love', 105), ('rumour', 64), ('ill', 52), ('know', 50), ('heart', 50)]]\n",
      "\n",
      "\n",
      "There are 16759908 tokens in the data.\n",
      "There are 1662233 unique tokens in the data.\n",
      "There are 98891121 characters in the data.\n",
      "The lexical diversity is 0.09917912437228175% in the data.\n",
      "The top 5 words in the data, along with their counts, are [('nan', 1953910), ('love', 212947), ('life', 122112), ('music', 86403), ('de', 73319)].\n",
      "[16759908, 1662233, 0.09917912437228175, 98891121, [('nan', 1953910), ('love', 212947), ('life', 122112), ('music', 86403), ('de', 73319)]]\n",
      "\n",
      "\n",
      "There are 1595010 tokens in the data.\n",
      "There are 266182 unique tokens in the data.\n",
      "There are 9637463 characters in the data.\n",
      "The lexical diversity is 0.16688422016162907% in the data.\n",
      "The top 5 words in the data, along with their counts, are [('nan', 164845), ('music', 14820), ('love', 11595), ('och', 7922), ('life', 7334)].\n",
      "[1595010, 266182, 0.16688422016162907, 9637463, [('nan', 164845), ('music', 14820), ('love', 11595), ('och', 7922), ('life', 7334)]]\n"
     ]
    }
   ],
   "source": [
    "# Calls to descriptive_stats here\n",
    "\n",
    "# Gather list for eminem_lyrics\n",
    "\n",
    "eminem_lyrics = lyrics_dict[\"eminem\"]\n",
    "eminem_tokens = clean_lyrics(eminem_lyrics)\n",
    "print(\"\\n\")\n",
    "print(descriptive_stats(eminem_tokens, verbose=True))\n",
    "\n",
    "# Gather list for adele_lyrics\n",
    "\n",
    "adele_lyrics = lyrics_dict[\"adele\"]\n",
    "adele_tokens = clean_lyrics(adele_lyrics)\n",
    "print(\"\\n\")\n",
    "print(descriptive_stats(adele_tokens, verbose=True))\n",
    "\n",
    "# Gather list for eminem_tweets\n",
    "\n",
    "cher_tokens = cleaned_tweets[\"cher\"][\"Tokens\"]\n",
    "print(\"\\n\")\n",
    "print(descriptive_stats(cher_tokens, verbose=True))\n",
    "\n",
    "# Gather list for adele_tweets\n",
    "\n",
    "robyn_tokens = cleaned_tweets[\"robynkonichiwa\"][\"Tokens\"]\n",
    "print(\"\\n\")\n",
    "print(descriptive_stats(robyn_tokens, verbose=True))\n"
   ]
  },
  {
   "attachments": {},
   "cell_type": "markdown",
   "id": "46294409",
   "metadata": {},
   "source": [
    "Q: How do you think the \"top 5 words\" would be different if we left stopwords in the data? \n",
    "\n",
    "A: If the stopwords were left in the data the top 5 words would most likely consist of them. Stopwords such as \"and\", \"I\", and \"the\" are some of the most commonly used words in the English language. Leaving them in the data would definitely skew the the top words in their favor. In the output above the word \"ill\" is considered to be one of the top words in Adele's song lyrics. It may be due to the punctuation removed prior to removing stopwords from the data, making it difficult to differentiate whether that top word represents \"I'll\" or \"ill\". It is highly unlikely Adele uses that word so frequently in her music unless it is in the chorus of one of the songs.\n",
    "\n",
    "---\n",
    "\n",
    "Q: What were your prior beliefs about the lexical diversity between the artists? Does the difference (or lack thereof) in lexical diversity between the artists conform to your prior beliefs? \n",
    "\n",
    "A: Granted that the genres of the two artists greatly differ (one being rap and the other pop) and Eminem is also kind of considered to be a human dictionary when it comes to his music, the lexical diversity between the two artists conforms to my prior beliefs. I did expect the lexical diversity to be much higher for Eminem though.\n"
   ]
  },
  {
   "attachments": {},
   "cell_type": "markdown",
   "id": "4d4e1ac1",
   "metadata": {},
   "source": [
    "\n",
    "## Specialty Statistics\n",
    "\n",
    "The descriptive statistics we have calculated are quite generic. You will now calculate a handful of statistics tailored to these data.\n",
    "\n",
    "1. Ten most common emojis by artist in the twitter descriptions.\n",
    "1. Ten most common hashtags by artist in the twitter descriptions.\n",
    "1. Five most common words in song titles by artist. \n",
    "1. For each artist, a histogram of song lengths (in terms of number of tokens) \n",
    "\n",
    "We can use the `emoji` library to help us identify emojis and you have been given a function to help you.\n"
   ]
  },
  {
   "cell_type": "code",
   "execution_count": 17,
   "id": "753a5a3e",
   "metadata": {},
   "outputs": [],
   "source": [
    "assert(emoji.is_emoji(\"❤️\"))\n",
    "assert(not emoji.is_emoji(\":-)\"))"
   ]
  },
  {
   "attachments": {},
   "cell_type": "markdown",
   "id": "986fc4c0",
   "metadata": {},
   "source": [
    "### Emojis 😁\n",
    "\n",
    "What are the ten most common emojis by artist in the twitter descriptions? \n"
   ]
  },
  {
   "cell_type": "code",
   "execution_count": 18,
   "id": "269cd433",
   "metadata": {},
   "outputs": [
    {
     "name": "stdout",
     "output_type": "stream",
     "text": [
      "Cher Emojis: \n",
      "\n",
      "[\n",
      "    ('❤️', 14572),\n",
      "    ('🏳️\\u200d🌈', 14008),\n",
      "    ('♥', 10083),\n",
      "    ('❤', 9569),\n",
      "    ('✨', 8278),\n",
      "    ('🌈', 5426),\n",
      "    ('🇺🇸', 3671),\n",
      "    ('💙', 3657),\n",
      "    ('💜', 3481),\n",
      "    ('🌊', 3252),\n",
      "]\n",
      "Robyn Emojis: \n",
      "\n",
      "[\n",
      "    ('🏳️\\u200d🌈', 1682),\n",
      "    ('♥', 1163),\n",
      "    ('❤️', 977),\n",
      "    ('✨', 748),\n",
      "    ('❤', 647),\n",
      "    ('🌈', 563),\n",
      "    ('🎶', 270),\n",
      "    ('🎧', 211),\n",
      "    ('🖤', 210),\n",
      "    ('💜', 205),\n",
      "]\n"
     ]
    }
   ],
   "source": [
    "# 10 most common emojis by artist via twitter descriptions\n",
    "\n",
    "# Function for counting emojis\n",
    "\n",
    "def emoji_counter(token_arr):\n",
    "    word_counts = Counter(token_arr).most_common()      # obtain word counts\n",
    "    emojis = []\n",
    "    for tup in word_counts:\n",
    "        if emoji.is_emoji(tup[0]):      # use emoji library to check tuples\n",
    "            emojis.append(tup)          # store if emoji\n",
    "    return emojis[0:10]\n",
    "\n",
    "cher_em = emoji_counter(cher_tokens)\n",
    "rob_em = emoji_counter(robyn_tokens)\n",
    "\n",
    "print(\"Cher Emojis: \\n\")\n",
    "pprint(cher_em)\n",
    "print(\"Robyn Emojis: \\n\")\n",
    "pprint(rob_em)"
   ]
  },
  {
   "attachments": {},
   "cell_type": "markdown",
   "id": "bab9b770",
   "metadata": {},
   "source": [
    "### Hashtags\n",
    "\n",
    "What are the ten most common hashtags by artist in the twitter descriptions? \n"
   ]
  },
  {
   "cell_type": "code",
   "execution_count": 19,
   "id": "07c396f1",
   "metadata": {},
   "outputs": [
    {
     "name": "stdout",
     "output_type": "stream",
     "text": [
      "Cher Hashtags: \n",
      "\n",
      "[\n",
      "    ('#resist', 10488),\n",
      "    ('#blm', 9542),\n",
      "    ('#blacklivesmatter', 7700),\n",
      "    ('#theresistance', 3199),\n",
      "    ('#fbr', 3123),\n",
      "    ('#resistance', 2770),\n",
      "    ('#1', 2419),\n",
      "    ('#', 2122),\n",
      "    ('#voteblue', 2047),\n",
      "    ('#lgbtq', 1786),\n",
      "]\n",
      "Robyn Hashtags: \n",
      "\n",
      "[\n",
      "    ('#blacklivesmatter', 580),\n",
      "    ('#blm', 338),\n",
      "    ('#music', 289),\n",
      "    ('#1', 194),\n",
      "    ('#', 168),\n",
      "    ('#teamfollowback', 127),\n",
      "    ('#edm', 108),\n",
      "    ('#lgbtq', 81),\n",
      "    ('#resist', 78),\n",
      "    ('#art', 69),\n",
      "]\n"
     ]
    }
   ],
   "source": [
    "# 10 most common hashtags by artist via twitter descriptions\n",
    "\n",
    "# Function for counting hashtags\n",
    "\n",
    "def hashtag_counter(token_arr):\n",
    "    word_counts = Counter(token_arr).most_common()      # obtain word counts\n",
    "    hashtags = []\n",
    "    for tup in word_counts:\n",
    "        token = tup[0]              # extract word in tuple\n",
    "        if token[0] == \"#\":         # check if first part of word string is hashtag\n",
    "            hashtags.append(tup)    # store if hashtag\n",
    "    return hashtags[0:10]\n",
    "    \n",
    "cher_hash = hashtag_counter(cher_tokens)\n",
    "rob_hash = hashtag_counter(robyn_tokens)\n",
    "\n",
    "print(\"Cher Hashtags: \\n\")\n",
    "pprint(cher_hash)\n",
    "print(\"Robyn Hashtags: \\n\")\n",
    "pprint(rob_hash)"
   ]
  },
  {
   "attachments": {},
   "cell_type": "markdown",
   "id": "d10f21d5",
   "metadata": {},
   "source": [
    "### Song Titles\n",
    "\n",
    "What are the five most common words in song titles by artist? The song titles should be on the first line of the lyrics pages, so if you have kept the raw file contents around, you will not need to re-read the data.\n"
   ]
  },
  {
   "cell_type": "code",
   "execution_count": 20,
   "id": "bb69b36b",
   "metadata": {},
   "outputs": [
    {
     "name": "stdout",
     "output_type": "stream",
     "text": [
      "Adele Common Title Words:\n",
      " [('You', 4), ('My', 4), ('It', 3), ('For', 3), ('Love', 3)]\n",
      "Eminem Common Title Words:\n",
      " [('(Skit)', 5), ('Murder', 2), ('Just', 2), ('My', 2), ('W.E.G.O.', 1)]\n"
     ]
    }
   ],
   "source": [
    "# 5 most common words in song titles by artist\n",
    "\n",
    "adele_songs = lyrics_dict[\"adele\"]\n",
    "eminem_songs = lyrics_dict[\"eminem\"]\n",
    "\n",
    "# Function for finding common words in title\n",
    "\n",
    "def common_words_in_title(arr):\n",
    "    titles = []\n",
    "    for el in arr:\n",
    "        title = el[\"Title\"]                 # extract title\n",
    "        title = title.replace(\".txt\", \"\")   # remove .txt\n",
    "        title = title.split(\"_\")            # split titles into word lists\n",
    "        titles.append(title)\n",
    "    \n",
    "    flattened = np.concatenate( titles , axis=0 )       # flatten lists in titles list\n",
    "\n",
    "    title_counts = Counter(flattened).most_common(5)    # get top 5 words\n",
    "    return title_counts\n",
    "\n",
    "adele_titles = common_words_in_title(adele_songs)\n",
    "print(\"Adele Common Title Words:\\n\", adele_titles)\n",
    "\n",
    "eminem_titles = common_words_in_title(eminem_songs)\n",
    "print(\"Eminem Common Title Words:\\n\", eminem_titles)\n"
   ]
  },
  {
   "attachments": {},
   "cell_type": "markdown",
   "id": "5dd4fd71",
   "metadata": {},
   "source": [
    "### Song Lengths\n",
    "\n",
    "For each artist, a histogram of song lengths (in terms of number of tokens). If you put the song lengths in a data frame with an artist column, matplotlib will make the plotting quite easy. An example is given to help you out. \n"
   ]
  },
  {
   "cell_type": "code",
   "execution_count": 21,
   "id": "805a1e52",
   "metadata": {},
   "outputs": [
    {
     "data": {
      "text/plain": [
       "artist\n",
       "Artist 1    AxesSubplot(0.125,0.125;0.775x0.755)\n",
       "Artist 2    AxesSubplot(0.125,0.125;0.775x0.755)\n",
       "Name: length, dtype: object"
      ]
     },
     "execution_count": 21,
     "metadata": {},
     "output_type": "execute_result"
    },
    {
     "data": {
      "image/png": "[encoded data removed]",
      "text/plain": [
       "<Figure size 432x288 with 1 Axes>"
      ]
     },
     "metadata": {
      "needs_background": "light"
     },
     "output_type": "display_data"
    }
   ],
   "source": [
    "# Histogram of tokens for number of tokens in each song\n",
    "\n",
    "num_replicates = 1000\n",
    "\n",
    "df_ex = pd.DataFrame({\n",
    "    \"artist\" : ['Artist 1'] * num_replicates + ['Artist 2']*num_replicates,\n",
    "    \"length\" : np.concatenate((np.random.poisson(125,num_replicates),np.random.poisson(150,num_replicates)))\n",
    "})\n",
    "\n",
    "df_ex.groupby('artist')['length'].plot(kind=\"hist\",density=True,alpha=0.5,legend=True)"
   ]
  },
  {
   "attachments": {},
   "cell_type": "markdown",
   "id": "8fde9ebb",
   "metadata": {},
   "source": [
    "Since the lyrics may be stored with carriage returns or tabs, it may be useful to have a function that can collapse whitespace, using regular expressions, and be used for splitting. \n",
    "\n",
    "Q: What does the regular expression `'\\s+'` match on? \n",
    "\n",
    "A: The `'s'` character represents a space, while the `'+'` indicates more than one. Therefore the regular expression `'\\s+'` matches on any part of text that consists of one or more spaces.\n"
   ]
  },
  {
   "cell_type": "code",
   "execution_count": 22,
   "id": "f0e34516",
   "metadata": {},
   "outputs": [],
   "source": [
    "collapse_whitespace = re.compile(r'\\s+')\n",
    "\n",
    "def tokenize_lyrics(lyric) : \n",
    "    \"\"\"strip and split on whitespace\"\"\"\n",
    "    return([item.lower() for item in collapse_whitespace.split(lyric)])"
   ]
  },
  {
   "cell_type": "code",
   "execution_count": 23,
   "id": "2294c440",
   "metadata": {},
   "outputs": [
    {
     "data": {
      "text/plain": [
       "artist\n",
       "Adele     AxesSubplot(0.125,0.125;0.775x0.755)\n",
       "Eminem    AxesSubplot(0.125,0.125;0.775x0.755)\n",
       "Name: length, dtype: object"
      ]
     },
     "execution_count": 23,
     "metadata": {},
     "output_type": "execute_result"
    },
    {
     "data": {
      "image/png": "[encoded data removed]",
      "text/plain": [
       "<Figure size 432x288 with 1 Axes>"
      ]
     },
     "metadata": {
      "needs_background": "light"
     },
     "output_type": "display_data"
    }
   ],
   "source": [
    "# Your lyric length comparison chart here. \n",
    "\n",
    "df_plot = pd.DataFrame({\n",
    "    \"artist\" : ['Eminem'] * num_replicates + ['Adele'] * num_replicates,\n",
    "    \"length\" : np.concatenate((np.random.poisson(len(eminem_tokens),num_replicates),np.random.poisson(len(adele_tokens),num_replicates)))\n",
    "})\n",
    "\n",
    "df_plot.groupby('artist')['length'].plot(kind=\"hist\",density=True,alpha=0.5,legend=True)"
   ]
  }
 ],
 "metadata": {
  "kernelspec": {
   "display_name": "Python 3 (ipykernel)",
   "language": "python",
   "name": "python3"
  },
  "language_info": {
   "codemirror_mode": {
    "name": "ipython",
    "version": 3
   },
   "file_extension": ".py",
   "mimetype": "text/x-python",
   "name": "python",
   "nbconvert_exporter": "python",
   "pygments_lexer": "ipython3",
   "version": "3.10.4"
  }
 },
 "nbformat": 4,
 "nbformat_minor": 5
}
